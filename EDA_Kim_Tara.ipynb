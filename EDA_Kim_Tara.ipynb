{
  "nbformat": 4,
  "nbformat_minor": 0,
  "metadata": {
    "colab": {
      "name": "EDA Project.ipynb",
      "provenance": []
    },
    "kernelspec": {
      "name": "python3",
      "display_name": "Python 3"
    }
  },
  "cells": [
    {
      "cell_type": "markdown",
      "metadata": {
        "id": "lt0Xizp0_Flm"
      },
      "source": [
        "dataset can be found at https://www.kaggle.com/ruchi798/movies-on-netflix-prime-video-hulu-and-disney"
      ]
    },
    {
      "cell_type": "code",
      "metadata": {
        "id": "Fy9riJRtz31P"
      },
      "source": [
        "# import libraries\n",
        "import numpy as np\n",
        "import pandas as pd\n",
        "import seaborn as sns\n",
        "import matplotlib.pyplot as plt"
      ],
      "execution_count": 556,
      "outputs": []
    },
    {
      "cell_type": "markdown",
      "metadata": {
        "id": "v6hFjki6KnZt"
      },
      "source": [
        "### **PART 1: SELECT AND PREPARE THE DATA**\n",
        "note: three columns were deleted prior to loading the data. original shape was (16744, 17)"
      ]
    },
    {
      "cell_type": "code",
      "metadata": {
        "id": "G_npE4drzsjT"
      },
      "source": [
        "# load dataset into dataframe labelled 'df_movies'\n",
        "df_movies = pd.read_csv('movies.csv')"
      ],
      "execution_count": 557,
      "outputs": []
    },
    {
      "cell_type": "markdown",
      "metadata": {
        "id": "1IeUaDZhDWBt"
      },
      "source": [
        "QUESTIONS\n",
        "  1.   How should we measure popularity? IMDb vs. Rotten Tomatoes\n",
        "  2.   Which platform has the most movies?\n",
        "  3.   Are subscriptions to multiple streaming platforms necessary? What percent of movies are on more than one platform?\n",
        "  4.   Does the number of streaming platforms a movie is on affect its popularity?"
      ]
    },
    {
      "cell_type": "markdown",
      "metadata": {
        "id": "D24v6LYtLIL-"
      },
      "source": [
        "### **PART 2: EXPLORATORY ANALYSIS**"
      ]
    },
    {
      "cell_type": "markdown",
      "metadata": {
        "id": "ODXgCsmBkRE2"
      },
      "source": [
        "\n",
        "#### **PHASE 1: SHAPE AND STRUCTURE**"
      ]
    },
    {
      "cell_type": "code",
      "metadata": {
        "colab": {
          "base_uri": "https://localhost:8080/"
        },
        "id": "Px0wJAM0-uKq",
        "outputId": "1486f91e-34be-4bb1-8e74-f4b2526536ff"
      },
      "source": [
        "# shape of dataframe\n",
        "df_movies.shape"
      ],
      "execution_count": 558,
      "outputs": [
        {
          "output_type": "execute_result",
          "data": {
            "text/plain": [
              "(16744, 14)"
            ]
          },
          "metadata": {
            "tags": []
          },
          "execution_count": 558
        }
      ]
    },
    {
      "cell_type": "code",
      "metadata": {
        "colab": {
          "base_uri": "https://localhost:8080/",
          "height": 204
        },
        "id": "LDBXGtK47Bin",
        "outputId": "9c38e659-dc89-41bd-96e1-5ffc6a8341fd"
      },
      "source": [
        "# print sample of dataframe (first five rows)\n",
        "df_movies.head()"
      ],
      "execution_count": 559,
      "outputs": [
        {
          "output_type": "execute_result",
          "data": {
            "text/html": [
              "<div>\n",
              "<style scoped>\n",
              "    .dataframe tbody tr th:only-of-type {\n",
              "        vertical-align: middle;\n",
              "    }\n",
              "\n",
              "    .dataframe tbody tr th {\n",
              "        vertical-align: top;\n",
              "    }\n",
              "\n",
              "    .dataframe thead th {\n",
              "        text-align: right;\n",
              "    }\n",
              "</style>\n",
              "<table border=\"1\" class=\"dataframe\">\n",
              "  <thead>\n",
              "    <tr style=\"text-align: right;\">\n",
              "      <th></th>\n",
              "      <th>Title</th>\n",
              "      <th>Year</th>\n",
              "      <th>Age</th>\n",
              "      <th>IMDb</th>\n",
              "      <th>Rotten Tomatoes</th>\n",
              "      <th>Netflix</th>\n",
              "      <th>Hulu</th>\n",
              "      <th>Prime Video</th>\n",
              "      <th>Disney+</th>\n",
              "      <th>Directors</th>\n",
              "      <th>Genres</th>\n",
              "      <th>Country</th>\n",
              "      <th>Language</th>\n",
              "      <th>Runtime</th>\n",
              "    </tr>\n",
              "  </thead>\n",
              "  <tbody>\n",
              "    <tr>\n",
              "      <th>0</th>\n",
              "      <td>Inception</td>\n",
              "      <td>2010</td>\n",
              "      <td>13+</td>\n",
              "      <td>8.8</td>\n",
              "      <td>87%</td>\n",
              "      <td>1</td>\n",
              "      <td>0</td>\n",
              "      <td>0</td>\n",
              "      <td>0</td>\n",
              "      <td>Christopher Nolan</td>\n",
              "      <td>Action,Adventure,Sci-Fi,Thriller</td>\n",
              "      <td>United States,United Kingdom</td>\n",
              "      <td>English,Japanese,French</td>\n",
              "      <td>148.0</td>\n",
              "    </tr>\n",
              "    <tr>\n",
              "      <th>1</th>\n",
              "      <td>The Matrix</td>\n",
              "      <td>1999</td>\n",
              "      <td>18+</td>\n",
              "      <td>8.7</td>\n",
              "      <td>87%</td>\n",
              "      <td>1</td>\n",
              "      <td>0</td>\n",
              "      <td>0</td>\n",
              "      <td>0</td>\n",
              "      <td>Lana Wachowski,Lilly Wachowski</td>\n",
              "      <td>Action,Sci-Fi</td>\n",
              "      <td>United States</td>\n",
              "      <td>English</td>\n",
              "      <td>136.0</td>\n",
              "    </tr>\n",
              "    <tr>\n",
              "      <th>2</th>\n",
              "      <td>Avengers: Infinity War</td>\n",
              "      <td>2018</td>\n",
              "      <td>13+</td>\n",
              "      <td>8.5</td>\n",
              "      <td>84%</td>\n",
              "      <td>1</td>\n",
              "      <td>0</td>\n",
              "      <td>0</td>\n",
              "      <td>0</td>\n",
              "      <td>Anthony Russo,Joe Russo</td>\n",
              "      <td>Action,Adventure,Sci-Fi</td>\n",
              "      <td>United States</td>\n",
              "      <td>English</td>\n",
              "      <td>149.0</td>\n",
              "    </tr>\n",
              "    <tr>\n",
              "      <th>3</th>\n",
              "      <td>Back to the Future</td>\n",
              "      <td>1985</td>\n",
              "      <td>7+</td>\n",
              "      <td>8.5</td>\n",
              "      <td>96%</td>\n",
              "      <td>1</td>\n",
              "      <td>0</td>\n",
              "      <td>0</td>\n",
              "      <td>0</td>\n",
              "      <td>Robert Zemeckis</td>\n",
              "      <td>Adventure,Comedy,Sci-Fi</td>\n",
              "      <td>United States</td>\n",
              "      <td>English</td>\n",
              "      <td>116.0</td>\n",
              "    </tr>\n",
              "    <tr>\n",
              "      <th>4</th>\n",
              "      <td>The Good, the Bad and the Ugly</td>\n",
              "      <td>1966</td>\n",
              "      <td>18+</td>\n",
              "      <td>8.8</td>\n",
              "      <td>97%</td>\n",
              "      <td>1</td>\n",
              "      <td>0</td>\n",
              "      <td>1</td>\n",
              "      <td>0</td>\n",
              "      <td>Sergio Leone</td>\n",
              "      <td>Western</td>\n",
              "      <td>Italy,Spain,West Germany</td>\n",
              "      <td>Italian</td>\n",
              "      <td>161.0</td>\n",
              "    </tr>\n",
              "  </tbody>\n",
              "</table>\n",
              "</div>"
            ],
            "text/plain": [
              "                            Title  Year  ...                 Language  Runtime\n",
              "0                       Inception  2010  ...  English,Japanese,French    148.0\n",
              "1                      The Matrix  1999  ...                  English    136.0\n",
              "2          Avengers: Infinity War  2018  ...                  English    149.0\n",
              "3              Back to the Future  1985  ...                  English    116.0\n",
              "4  The Good, the Bad and the Ugly  1966  ...                  Italian    161.0\n",
              "\n",
              "[5 rows x 14 columns]"
            ]
          },
          "metadata": {
            "tags": []
          },
          "execution_count": 559
        }
      ]
    },
    {
      "cell_type": "code",
      "metadata": {
        "colab": {
          "base_uri": "https://localhost:8080/"
        },
        "id": "juFrZJq87D4r",
        "outputId": "077047c5-f863-47e2-e612-28479604c557"
      },
      "source": [
        "# understand data columns\n",
        "df_movies.info()"
      ],
      "execution_count": 560,
      "outputs": [
        {
          "output_type": "stream",
          "text": [
            "<class 'pandas.core.frame.DataFrame'>\n",
            "RangeIndex: 16744 entries, 0 to 16743\n",
            "Data columns (total 14 columns):\n",
            " #   Column           Non-Null Count  Dtype  \n",
            "---  ------           --------------  -----  \n",
            " 0   Title            16744 non-null  object \n",
            " 1   Year             16744 non-null  int64  \n",
            " 2   Age              7354 non-null   object \n",
            " 3   IMDb             16173 non-null  float64\n",
            " 4   Rotten Tomatoes  5158 non-null   object \n",
            " 5   Netflix          16744 non-null  int64  \n",
            " 6   Hulu             16744 non-null  int64  \n",
            " 7   Prime Video      16744 non-null  int64  \n",
            " 8   Disney+          16744 non-null  int64  \n",
            " 9   Directors        16018 non-null  object \n",
            " 10  Genres           16469 non-null  object \n",
            " 11  Country          16309 non-null  object \n",
            " 12  Language         16145 non-null  object \n",
            " 13  Runtime          16152 non-null  float64\n",
            "dtypes: float64(2), int64(5), object(7)\n",
            "memory usage: 1.8+ MB\n"
          ],
          "name": "stdout"
        }
      ]
    },
    {
      "cell_type": "markdown",
      "metadata": {
        "id": "sWcslGDImX8O"
      },
      "source": [
        "**QUESTION 1:** How should we measure popularity? IMDb vs. Rotten Tomatoes\n"
      ]
    },
    {
      "cell_type": "code",
      "metadata": {
        "colab": {
          "base_uri": "https://localhost:8080/"
        },
        "id": "S3c3fw5CoEW9",
        "outputId": "7f47f4bb-b131-439e-efe4-635a60220802"
      },
      "source": [
        "# check for missing values in each column\n",
        "df_movies.isnull().sum()"
      ],
      "execution_count": 561,
      "outputs": [
        {
          "output_type": "execute_result",
          "data": {
            "text/plain": [
              "Title                  0\n",
              "Year                   0\n",
              "Age                 9390\n",
              "IMDb                 571\n",
              "Rotten Tomatoes    11586\n",
              "Netflix                0\n",
              "Hulu                   0\n",
              "Prime Video            0\n",
              "Disney+                0\n",
              "Directors            726\n",
              "Genres               275\n",
              "Country              435\n",
              "Language             599\n",
              "Runtime              592\n",
              "dtype: int64"
            ]
          },
          "metadata": {
            "tags": []
          },
          "execution_count": 561
        }
      ]
    },
    {
      "cell_type": "markdown",
      "metadata": {
        "id": "HYG6fs0uS8Vd"
      },
      "source": [
        "ANSWER: IMDb should be used to measure popularity.\n",
        "* almost 70% of the Rotten Tomatoes data is missing values\n",
        "* popularity should be based on IMDb as opposed to Rotten Tomatoes\n"
      ]
    },
    {
      "cell_type": "code",
      "metadata": {
        "colab": {
          "base_uri": "https://localhost:8080/"
        },
        "id": "CLNctbd3nEK0",
        "outputId": "1c7b4ae8-2503-467f-baec-58845691fc9d"
      },
      "source": [
        "# check for duplicate rows\n",
        "duplicate = df_movies[df_movies.duplicated()]\n",
        "print(duplicate.shape)"
      ],
      "execution_count": 562,
      "outputs": [
        {
          "output_type": "stream",
          "text": [
            "(0, 14)\n"
          ],
          "name": "stdout"
        }
      ]
    },
    {
      "cell_type": "code",
      "metadata": {
        "colab": {
          "base_uri": "https://localhost:8080/",
          "height": 204
        },
        "id": "JJ9wCSlnppUT",
        "outputId": "312eb979-d5fe-4a6f-f93b-1c7c936bd766"
      },
      "source": [
        "# drop unnecessary columns\n",
        "df_movies.drop(columns = ['Age', 'Rotten Tomatoes', 'Directors', 'Genres', 'Country', 'Language', 'Runtime'], inplace = True)\n",
        "df_movies.head()"
      ],
      "execution_count": 563,
      "outputs": [
        {
          "output_type": "execute_result",
          "data": {
            "text/html": [
              "<div>\n",
              "<style scoped>\n",
              "    .dataframe tbody tr th:only-of-type {\n",
              "        vertical-align: middle;\n",
              "    }\n",
              "\n",
              "    .dataframe tbody tr th {\n",
              "        vertical-align: top;\n",
              "    }\n",
              "\n",
              "    .dataframe thead th {\n",
              "        text-align: right;\n",
              "    }\n",
              "</style>\n",
              "<table border=\"1\" class=\"dataframe\">\n",
              "  <thead>\n",
              "    <tr style=\"text-align: right;\">\n",
              "      <th></th>\n",
              "      <th>Title</th>\n",
              "      <th>Year</th>\n",
              "      <th>IMDb</th>\n",
              "      <th>Netflix</th>\n",
              "      <th>Hulu</th>\n",
              "      <th>Prime Video</th>\n",
              "      <th>Disney+</th>\n",
              "    </tr>\n",
              "  </thead>\n",
              "  <tbody>\n",
              "    <tr>\n",
              "      <th>0</th>\n",
              "      <td>Inception</td>\n",
              "      <td>2010</td>\n",
              "      <td>8.8</td>\n",
              "      <td>1</td>\n",
              "      <td>0</td>\n",
              "      <td>0</td>\n",
              "      <td>0</td>\n",
              "    </tr>\n",
              "    <tr>\n",
              "      <th>1</th>\n",
              "      <td>The Matrix</td>\n",
              "      <td>1999</td>\n",
              "      <td>8.7</td>\n",
              "      <td>1</td>\n",
              "      <td>0</td>\n",
              "      <td>0</td>\n",
              "      <td>0</td>\n",
              "    </tr>\n",
              "    <tr>\n",
              "      <th>2</th>\n",
              "      <td>Avengers: Infinity War</td>\n",
              "      <td>2018</td>\n",
              "      <td>8.5</td>\n",
              "      <td>1</td>\n",
              "      <td>0</td>\n",
              "      <td>0</td>\n",
              "      <td>0</td>\n",
              "    </tr>\n",
              "    <tr>\n",
              "      <th>3</th>\n",
              "      <td>Back to the Future</td>\n",
              "      <td>1985</td>\n",
              "      <td>8.5</td>\n",
              "      <td>1</td>\n",
              "      <td>0</td>\n",
              "      <td>0</td>\n",
              "      <td>0</td>\n",
              "    </tr>\n",
              "    <tr>\n",
              "      <th>4</th>\n",
              "      <td>The Good, the Bad and the Ugly</td>\n",
              "      <td>1966</td>\n",
              "      <td>8.8</td>\n",
              "      <td>1</td>\n",
              "      <td>0</td>\n",
              "      <td>1</td>\n",
              "      <td>0</td>\n",
              "    </tr>\n",
              "  </tbody>\n",
              "</table>\n",
              "</div>"
            ],
            "text/plain": [
              "                            Title  Year  IMDb  ...  Hulu  Prime Video  Disney+\n",
              "0                       Inception  2010   8.8  ...     0            0        0\n",
              "1                      The Matrix  1999   8.7  ...     0            0        0\n",
              "2          Avengers: Infinity War  2018   8.5  ...     0            0        0\n",
              "3              Back to the Future  1985   8.5  ...     0            0        0\n",
              "4  The Good, the Bad and the Ugly  1966   8.8  ...     0            1        0\n",
              "\n",
              "[5 rows x 7 columns]"
            ]
          },
          "metadata": {
            "tags": []
          },
          "execution_count": 563
        }
      ]
    },
    {
      "cell_type": "code",
      "metadata": {
        "colab": {
          "base_uri": "https://localhost:8080/"
        },
        "id": "9B5XZ4aMEUGT",
        "outputId": "2314c36f-9580-41eb-c441-d4723f000316"
      },
      "source": [
        "# shape of dataframe after modifications\n",
        "df_movies.shape"
      ],
      "execution_count": 564,
      "outputs": [
        {
          "output_type": "execute_result",
          "data": {
            "text/plain": [
              "(16744, 7)"
            ]
          },
          "metadata": {
            "tags": []
          },
          "execution_count": 564
        }
      ]
    },
    {
      "cell_type": "markdown",
      "metadata": {
        "id": "kFM7TC0cNyl3"
      },
      "source": [
        "#### **PHASE 2: DATA VISUALIZATIONS**"
      ]
    },
    {
      "cell_type": "markdown",
      "metadata": {
        "id": "NTxvo9h0S4PA"
      },
      "source": [
        "##### **QUESTION 2:** Which platform has the most movies?"
      ]
    },
    {
      "cell_type": "code",
      "metadata": {
        "id": "s-wsIzcTwT0x"
      },
      "source": [
        "# x-axis\n",
        "platforms = ['Netflix', 'Hulu', 'Prime Video', 'Disney+']"
      ],
      "execution_count": 565,
      "outputs": []
    },
    {
      "cell_type": "code",
      "metadata": {
        "colab": {
          "base_uri": "https://localhost:8080/",
          "height": 239
        },
        "id": "nz2_fgaGtv98",
        "outputId": "26c35603-113d-4472-c280-4968b3f93a6e"
      },
      "source": [
        "# y-axis\n",
        "\n",
        "# df_platforms: subset of df_movies\n",
        "df_platforms = df_movies[['Netflix', 'Hulu', 'Prime Video', 'Disney+']]\n",
        "df_platforms = df_platforms.T\n",
        "\n",
        "# sum number of movies on each platform\n",
        "df_platforms['Total'] = df_platforms.sum(axis = 1)\n",
        "df_platforms.head()"
      ],
      "execution_count": 566,
      "outputs": [
        {
          "output_type": "execute_result",
          "data": {
            "text/html": [
              "<div>\n",
              "<style scoped>\n",
              "    .dataframe tbody tr th:only-of-type {\n",
              "        vertical-align: middle;\n",
              "    }\n",
              "\n",
              "    .dataframe tbody tr th {\n",
              "        vertical-align: top;\n",
              "    }\n",
              "\n",
              "    .dataframe thead th {\n",
              "        text-align: right;\n",
              "    }\n",
              "</style>\n",
              "<table border=\"1\" class=\"dataframe\">\n",
              "  <thead>\n",
              "    <tr style=\"text-align: right;\">\n",
              "      <th></th>\n",
              "      <th>0</th>\n",
              "      <th>1</th>\n",
              "      <th>2</th>\n",
              "      <th>3</th>\n",
              "      <th>4</th>\n",
              "      <th>5</th>\n",
              "      <th>6</th>\n",
              "      <th>7</th>\n",
              "      <th>8</th>\n",
              "      <th>9</th>\n",
              "      <th>10</th>\n",
              "      <th>11</th>\n",
              "      <th>12</th>\n",
              "      <th>13</th>\n",
              "      <th>14</th>\n",
              "      <th>15</th>\n",
              "      <th>16</th>\n",
              "      <th>17</th>\n",
              "      <th>18</th>\n",
              "      <th>19</th>\n",
              "      <th>20</th>\n",
              "      <th>21</th>\n",
              "      <th>22</th>\n",
              "      <th>23</th>\n",
              "      <th>24</th>\n",
              "      <th>25</th>\n",
              "      <th>26</th>\n",
              "      <th>27</th>\n",
              "      <th>28</th>\n",
              "      <th>29</th>\n",
              "      <th>30</th>\n",
              "      <th>31</th>\n",
              "      <th>32</th>\n",
              "      <th>33</th>\n",
              "      <th>34</th>\n",
              "      <th>35</th>\n",
              "      <th>36</th>\n",
              "      <th>37</th>\n",
              "      <th>38</th>\n",
              "      <th>39</th>\n",
              "      <th>...</th>\n",
              "      <th>16705</th>\n",
              "      <th>16706</th>\n",
              "      <th>16707</th>\n",
              "      <th>16708</th>\n",
              "      <th>16709</th>\n",
              "      <th>16710</th>\n",
              "      <th>16711</th>\n",
              "      <th>16712</th>\n",
              "      <th>16713</th>\n",
              "      <th>16714</th>\n",
              "      <th>16715</th>\n",
              "      <th>16716</th>\n",
              "      <th>16717</th>\n",
              "      <th>16718</th>\n",
              "      <th>16719</th>\n",
              "      <th>16720</th>\n",
              "      <th>16721</th>\n",
              "      <th>16722</th>\n",
              "      <th>16723</th>\n",
              "      <th>16724</th>\n",
              "      <th>16725</th>\n",
              "      <th>16726</th>\n",
              "      <th>16727</th>\n",
              "      <th>16728</th>\n",
              "      <th>16729</th>\n",
              "      <th>16730</th>\n",
              "      <th>16731</th>\n",
              "      <th>16732</th>\n",
              "      <th>16733</th>\n",
              "      <th>16734</th>\n",
              "      <th>16735</th>\n",
              "      <th>16736</th>\n",
              "      <th>16737</th>\n",
              "      <th>16738</th>\n",
              "      <th>16739</th>\n",
              "      <th>16740</th>\n",
              "      <th>16741</th>\n",
              "      <th>16742</th>\n",
              "      <th>16743</th>\n",
              "      <th>Total</th>\n",
              "    </tr>\n",
              "  </thead>\n",
              "  <tbody>\n",
              "    <tr>\n",
              "      <th>Netflix</th>\n",
              "      <td>1</td>\n",
              "      <td>1</td>\n",
              "      <td>1</td>\n",
              "      <td>1</td>\n",
              "      <td>1</td>\n",
              "      <td>1</td>\n",
              "      <td>1</td>\n",
              "      <td>1</td>\n",
              "      <td>1</td>\n",
              "      <td>1</td>\n",
              "      <td>1</td>\n",
              "      <td>1</td>\n",
              "      <td>1</td>\n",
              "      <td>1</td>\n",
              "      <td>1</td>\n",
              "      <td>1</td>\n",
              "      <td>1</td>\n",
              "      <td>1</td>\n",
              "      <td>1</td>\n",
              "      <td>1</td>\n",
              "      <td>1</td>\n",
              "      <td>1</td>\n",
              "      <td>1</td>\n",
              "      <td>1</td>\n",
              "      <td>1</td>\n",
              "      <td>1</td>\n",
              "      <td>1</td>\n",
              "      <td>1</td>\n",
              "      <td>1</td>\n",
              "      <td>1</td>\n",
              "      <td>1</td>\n",
              "      <td>1</td>\n",
              "      <td>1</td>\n",
              "      <td>1</td>\n",
              "      <td>1</td>\n",
              "      <td>1</td>\n",
              "      <td>1</td>\n",
              "      <td>1</td>\n",
              "      <td>1</td>\n",
              "      <td>1</td>\n",
              "      <td>...</td>\n",
              "      <td>0</td>\n",
              "      <td>0</td>\n",
              "      <td>0</td>\n",
              "      <td>0</td>\n",
              "      <td>0</td>\n",
              "      <td>0</td>\n",
              "      <td>0</td>\n",
              "      <td>0</td>\n",
              "      <td>0</td>\n",
              "      <td>0</td>\n",
              "      <td>0</td>\n",
              "      <td>0</td>\n",
              "      <td>0</td>\n",
              "      <td>0</td>\n",
              "      <td>0</td>\n",
              "      <td>0</td>\n",
              "      <td>0</td>\n",
              "      <td>0</td>\n",
              "      <td>0</td>\n",
              "      <td>0</td>\n",
              "      <td>0</td>\n",
              "      <td>0</td>\n",
              "      <td>0</td>\n",
              "      <td>0</td>\n",
              "      <td>0</td>\n",
              "      <td>0</td>\n",
              "      <td>0</td>\n",
              "      <td>0</td>\n",
              "      <td>0</td>\n",
              "      <td>0</td>\n",
              "      <td>0</td>\n",
              "      <td>0</td>\n",
              "      <td>0</td>\n",
              "      <td>0</td>\n",
              "      <td>0</td>\n",
              "      <td>0</td>\n",
              "      <td>0</td>\n",
              "      <td>0</td>\n",
              "      <td>0</td>\n",
              "      <td>3560</td>\n",
              "    </tr>\n",
              "    <tr>\n",
              "      <th>Hulu</th>\n",
              "      <td>0</td>\n",
              "      <td>0</td>\n",
              "      <td>0</td>\n",
              "      <td>0</td>\n",
              "      <td>0</td>\n",
              "      <td>0</td>\n",
              "      <td>0</td>\n",
              "      <td>0</td>\n",
              "      <td>0</td>\n",
              "      <td>0</td>\n",
              "      <td>0</td>\n",
              "      <td>0</td>\n",
              "      <td>0</td>\n",
              "      <td>0</td>\n",
              "      <td>0</td>\n",
              "      <td>0</td>\n",
              "      <td>0</td>\n",
              "      <td>0</td>\n",
              "      <td>0</td>\n",
              "      <td>0</td>\n",
              "      <td>0</td>\n",
              "      <td>0</td>\n",
              "      <td>0</td>\n",
              "      <td>0</td>\n",
              "      <td>0</td>\n",
              "      <td>0</td>\n",
              "      <td>0</td>\n",
              "      <td>0</td>\n",
              "      <td>0</td>\n",
              "      <td>0</td>\n",
              "      <td>0</td>\n",
              "      <td>0</td>\n",
              "      <td>0</td>\n",
              "      <td>0</td>\n",
              "      <td>0</td>\n",
              "      <td>0</td>\n",
              "      <td>0</td>\n",
              "      <td>0</td>\n",
              "      <td>0</td>\n",
              "      <td>0</td>\n",
              "      <td>...</td>\n",
              "      <td>0</td>\n",
              "      <td>0</td>\n",
              "      <td>0</td>\n",
              "      <td>0</td>\n",
              "      <td>0</td>\n",
              "      <td>0</td>\n",
              "      <td>0</td>\n",
              "      <td>0</td>\n",
              "      <td>0</td>\n",
              "      <td>0</td>\n",
              "      <td>0</td>\n",
              "      <td>0</td>\n",
              "      <td>0</td>\n",
              "      <td>0</td>\n",
              "      <td>0</td>\n",
              "      <td>0</td>\n",
              "      <td>0</td>\n",
              "      <td>0</td>\n",
              "      <td>0</td>\n",
              "      <td>0</td>\n",
              "      <td>0</td>\n",
              "      <td>0</td>\n",
              "      <td>0</td>\n",
              "      <td>0</td>\n",
              "      <td>0</td>\n",
              "      <td>0</td>\n",
              "      <td>0</td>\n",
              "      <td>0</td>\n",
              "      <td>0</td>\n",
              "      <td>0</td>\n",
              "      <td>0</td>\n",
              "      <td>0</td>\n",
              "      <td>0</td>\n",
              "      <td>0</td>\n",
              "      <td>0</td>\n",
              "      <td>0</td>\n",
              "      <td>0</td>\n",
              "      <td>0</td>\n",
              "      <td>0</td>\n",
              "      <td>903</td>\n",
              "    </tr>\n",
              "    <tr>\n",
              "      <th>Prime Video</th>\n",
              "      <td>0</td>\n",
              "      <td>0</td>\n",
              "      <td>0</td>\n",
              "      <td>0</td>\n",
              "      <td>1</td>\n",
              "      <td>0</td>\n",
              "      <td>1</td>\n",
              "      <td>0</td>\n",
              "      <td>0</td>\n",
              "      <td>0</td>\n",
              "      <td>0</td>\n",
              "      <td>1</td>\n",
              "      <td>0</td>\n",
              "      <td>0</td>\n",
              "      <td>0</td>\n",
              "      <td>1</td>\n",
              "      <td>0</td>\n",
              "      <td>0</td>\n",
              "      <td>0</td>\n",
              "      <td>0</td>\n",
              "      <td>0</td>\n",
              "      <td>0</td>\n",
              "      <td>0</td>\n",
              "      <td>0</td>\n",
              "      <td>0</td>\n",
              "      <td>0</td>\n",
              "      <td>0</td>\n",
              "      <td>0</td>\n",
              "      <td>0</td>\n",
              "      <td>0</td>\n",
              "      <td>0</td>\n",
              "      <td>1</td>\n",
              "      <td>1</td>\n",
              "      <td>0</td>\n",
              "      <td>0</td>\n",
              "      <td>0</td>\n",
              "      <td>0</td>\n",
              "      <td>0</td>\n",
              "      <td>0</td>\n",
              "      <td>0</td>\n",
              "      <td>...</td>\n",
              "      <td>0</td>\n",
              "      <td>0</td>\n",
              "      <td>0</td>\n",
              "      <td>0</td>\n",
              "      <td>0</td>\n",
              "      <td>0</td>\n",
              "      <td>0</td>\n",
              "      <td>0</td>\n",
              "      <td>0</td>\n",
              "      <td>0</td>\n",
              "      <td>0</td>\n",
              "      <td>0</td>\n",
              "      <td>0</td>\n",
              "      <td>0</td>\n",
              "      <td>0</td>\n",
              "      <td>0</td>\n",
              "      <td>0</td>\n",
              "      <td>0</td>\n",
              "      <td>0</td>\n",
              "      <td>0</td>\n",
              "      <td>0</td>\n",
              "      <td>0</td>\n",
              "      <td>0</td>\n",
              "      <td>0</td>\n",
              "      <td>0</td>\n",
              "      <td>0</td>\n",
              "      <td>0</td>\n",
              "      <td>0</td>\n",
              "      <td>0</td>\n",
              "      <td>0</td>\n",
              "      <td>0</td>\n",
              "      <td>0</td>\n",
              "      <td>0</td>\n",
              "      <td>0</td>\n",
              "      <td>0</td>\n",
              "      <td>0</td>\n",
              "      <td>0</td>\n",
              "      <td>0</td>\n",
              "      <td>0</td>\n",
              "      <td>12354</td>\n",
              "    </tr>\n",
              "    <tr>\n",
              "      <th>Disney+</th>\n",
              "      <td>0</td>\n",
              "      <td>0</td>\n",
              "      <td>0</td>\n",
              "      <td>0</td>\n",
              "      <td>0</td>\n",
              "      <td>0</td>\n",
              "      <td>0</td>\n",
              "      <td>0</td>\n",
              "      <td>0</td>\n",
              "      <td>0</td>\n",
              "      <td>0</td>\n",
              "      <td>0</td>\n",
              "      <td>0</td>\n",
              "      <td>0</td>\n",
              "      <td>0</td>\n",
              "      <td>0</td>\n",
              "      <td>0</td>\n",
              "      <td>0</td>\n",
              "      <td>0</td>\n",
              "      <td>0</td>\n",
              "      <td>0</td>\n",
              "      <td>0</td>\n",
              "      <td>0</td>\n",
              "      <td>0</td>\n",
              "      <td>0</td>\n",
              "      <td>0</td>\n",
              "      <td>0</td>\n",
              "      <td>0</td>\n",
              "      <td>0</td>\n",
              "      <td>0</td>\n",
              "      <td>0</td>\n",
              "      <td>0</td>\n",
              "      <td>0</td>\n",
              "      <td>0</td>\n",
              "      <td>0</td>\n",
              "      <td>0</td>\n",
              "      <td>0</td>\n",
              "      <td>0</td>\n",
              "      <td>0</td>\n",
              "      <td>0</td>\n",
              "      <td>...</td>\n",
              "      <td>1</td>\n",
              "      <td>1</td>\n",
              "      <td>1</td>\n",
              "      <td>1</td>\n",
              "      <td>1</td>\n",
              "      <td>1</td>\n",
              "      <td>1</td>\n",
              "      <td>1</td>\n",
              "      <td>1</td>\n",
              "      <td>1</td>\n",
              "      <td>1</td>\n",
              "      <td>1</td>\n",
              "      <td>1</td>\n",
              "      <td>1</td>\n",
              "      <td>1</td>\n",
              "      <td>1</td>\n",
              "      <td>1</td>\n",
              "      <td>1</td>\n",
              "      <td>1</td>\n",
              "      <td>1</td>\n",
              "      <td>1</td>\n",
              "      <td>1</td>\n",
              "      <td>1</td>\n",
              "      <td>1</td>\n",
              "      <td>1</td>\n",
              "      <td>1</td>\n",
              "      <td>1</td>\n",
              "      <td>1</td>\n",
              "      <td>1</td>\n",
              "      <td>1</td>\n",
              "      <td>1</td>\n",
              "      <td>1</td>\n",
              "      <td>1</td>\n",
              "      <td>1</td>\n",
              "      <td>1</td>\n",
              "      <td>1</td>\n",
              "      <td>1</td>\n",
              "      <td>1</td>\n",
              "      <td>1</td>\n",
              "      <td>564</td>\n",
              "    </tr>\n",
              "  </tbody>\n",
              "</table>\n",
              "<p>4 rows × 16745 columns</p>\n",
              "</div>"
            ],
            "text/plain": [
              "             0  1  2  3  4  5  ...  16739  16740  16741  16742  16743  Total\n",
              "Netflix      1  1  1  1  1  1  ...      0      0      0      0      0   3560\n",
              "Hulu         0  0  0  0  0  0  ...      0      0      0      0      0    903\n",
              "Prime Video  0  0  0  0  1  0  ...      0      0      0      0      0  12354\n",
              "Disney+      0  0  0  0  0  0  ...      1      1      1      1      1    564\n",
              "\n",
              "[4 rows x 16745 columns]"
            ]
          },
          "metadata": {
            "tags": []
          },
          "execution_count": 566
        }
      ]
    },
    {
      "cell_type": "code",
      "metadata": {
        "colab": {
          "base_uri": "https://localhost:8080/"
        },
        "id": "qjegYzh1qh6o",
        "outputId": "34dab000-ce73-4721-f01b-d2aa953c74fe"
      },
      "source": [
        "# double check values\n",
        "print(\"Netflix:\", df_movies['Netflix'].sum())\n",
        "print(\"Hulu:\", df_movies['Hulu'].sum())\n",
        "print(\"Prime Video:\", df_movies['Prime Video'].sum())\n",
        "print(\"Disney+:\", df_movies['Disney+'].sum())"
      ],
      "execution_count": 567,
      "outputs": [
        {
          "output_type": "stream",
          "text": [
            "Netflix: 3560\n",
            "Hulu: 903\n",
            "Prime Video: 12354\n",
            "Disney+: 564\n"
          ],
          "name": "stdout"
        }
      ]
    },
    {
      "cell_type": "code",
      "metadata": {
        "id": "75C25kjKzsok",
        "colab": {
          "base_uri": "https://localhost:8080/",
          "height": 448
        },
        "outputId": "d293f371-267e-4061-aec5-983dee2a1b63"
      },
      "source": [
        "# bar graph\n",
        "\n",
        "plt.style.use('seaborn-whitegrid')\n",
        "plt.bar(platforms, df_platforms['Total'], color = '#FED5E1')\n",
        "\n",
        "plt.xlabel('Streaming Platform')\n",
        "plt.ylabel('Movies')\n",
        "\n",
        "plt.title('Movies on Streaming Platforms', y = 1.03)\n",
        "\n",
        "plt.show()"
      ],
      "execution_count": 568,
      "outputs": [
        {
          "output_type": "display_data",
          "data": {
            "image/png": "[encoded data removed]",
            "text/plain": [
              "<Figure size 640x440 with 1 Axes>"
            ]
          },
          "metadata": {
            "tags": []
          }
        }
      ]
    },
    {
      "cell_type": "markdown",
      "metadata": {
        "id": "qIxYzT5qjjB3"
      },
      "source": [
        "ANSWER: Prime Video has the most movies, featuring 1254 titles."
      ]
    },
    {
      "cell_type": "markdown",
      "metadata": {
        "id": "lElaudbum5Yz"
      },
      "source": [
        "##### **QUESTION 3:** Are subscriptions to multiple streaming platforms necessary? What percent of movies are on more than one platform?"
      ]
    },
    {
      "cell_type": "code",
      "metadata": {
        "colab": {
          "base_uri": "https://localhost:8080/"
        },
        "id": "MqwaV5zoLETo",
        "outputId": "3e85a8a0-29a7-45d5-a8b8-d1a8afa4342a"
      },
      "source": [
        "# df_multiples: subset/copy of df_movies\n",
        "df_multiples = df_movies.filter(['Title', 'IMDb', 'Netflix', 'Hulu', 'Prime Video', 'Disney+'], axis = 1)\n",
        "\n",
        "# number of platforms each movie is on\n",
        "df_multiples['Count'] = df_multiples[['Netflix', 'Hulu', 'Prime Video', 'Disney+']].sum(axis = 1)\n",
        "\n",
        "# create columns with boolean values depending on result of Count column\n",
        "df_multiples['One'] = df_multiples['Count'] == 1\n",
        "df_multiples['Two'] = df_multiples['Count'] == 2\n",
        "df_multiples['Three'] = df_multiples['Count'] == 3\n",
        "df_multiples['Four'] = df_multiples['Count'] == 4\n",
        "\n",
        "# sum number of True values in each column\n",
        "one = df_multiples['One'].values.sum()\n",
        "two = df_multiples['Two'].values.sum()\n",
        "three = df_multiples['Three'].values.sum()\n",
        "four = df_multiples['Four'].values.sum()\n",
        "\n",
        "# no movies on all four platforms\n",
        "print(four)"
      ],
      "execution_count": 569,
      "outputs": [
        {
          "output_type": "stream",
          "text": [
            "0\n"
          ],
          "name": "stdout"
        }
      ]
    },
    {
      "cell_type": "code",
      "metadata": {
        "colab": {
          "base_uri": "https://localhost:8080/",
          "height": 413
        },
        "id": "UalphCzQPJXq",
        "outputId": "92743045-3ff2-40a0-d463-15ed2c4be500"
      },
      "source": [
        "# pie chart\n",
        "\n",
        "labels = ['one', 'two', 'three']\n",
        "percent = [one, two, three]\n",
        "colors = ['#FED5E1', '#F99A9C', '#B5DDD1']\n",
        "textprops = {'fontsize': 13}\n",
        "\n",
        "plt.style.use('seaborn-whitegrid')\n",
        "plt.pie(percent, explode=[0, 0.5, 0.5], labels = labels, colors = colors, autopct = '%1.1f%%', textprops = textprops)\n",
        "\n",
        "plt.title('Overlap Between Streaming Platforms', x = 0.45 ,y = 1.03)\n",
        "\n",
        "plt.axis('equal')\n",
        "plt.legend(labels, loc = 'lower left')\n",
        "\n",
        "plt.show()"
      ],
      "execution_count": 570,
      "outputs": [
        {
          "output_type": "display_data",
          "data": {
            "image/png": "[encoded data removed]",
            "text/plain": [
              "<Figure size 640x440 with 1 Axes>"
            ]
          },
          "metadata": {
            "tags": []
          }
        }
      ]
    },
    {
      "cell_type": "markdown",
      "metadata": {
        "id": "McBAhTpa3scY"
      },
      "source": [
        "ANSWER: In order to have the best range of movies possible, it may be seen as necessary to have multiple subscriptions. It can be seen that only a very small percentage (3.8%) of movies are on more than one platform."
      ]
    },
    {
      "cell_type": "markdown",
      "metadata": {
        "id": "DMAJKvPf5jn_"
      },
      "source": [
        "##### **QUESTION 4:** Does the number of streaming platforms a movie is on affect its popularity?"
      ]
    },
    {
      "cell_type": "code",
      "metadata": {
        "colab": {
          "base_uri": "https://localhost:8080/"
        },
        "id": "ufxGSCxMDexr",
        "outputId": "da8cf103-d778-4426-9372-a5ffd677630c"
      },
      "source": [
        "# df_popularity: subset/copy of df_multiples\n",
        "df_popularity = df_multiples.filter(['Title', 'IMDb', 'Count'], axis = 1)\n",
        "\n",
        "# check for missing values\n",
        "df_popularity.isnull().sum()"
      ],
      "execution_count": 571,
      "outputs": [
        {
          "output_type": "execute_result",
          "data": {
            "text/plain": [
              "Title      0\n",
              "IMDb     571\n",
              "Count      0\n",
              "dtype: int64"
            ]
          },
          "metadata": {
            "tags": []
          },
          "execution_count": 571
        }
      ]
    },
    {
      "cell_type": "code",
      "metadata": {
        "id": "qCYPfSdr8P36"
      },
      "source": [
        "# drop rows with missing values in IMDb column\n",
        "df_popularity.dropna(subset = ['IMDb'], inplace = True)"
      ],
      "execution_count": 572,
      "outputs": []
    },
    {
      "cell_type": "code",
      "metadata": {
        "colab": {
          "base_uri": "https://localhost:8080/"
        },
        "id": "8B5XySZvEZ2b",
        "outputId": "a45d03fb-8f53-44aa-c537-e84b3126368f"
      },
      "source": [
        "# confirm that missing values have been handled\n",
        "df_popularity.isnull().sum()"
      ],
      "execution_count": 573,
      "outputs": [
        {
          "output_type": "execute_result",
          "data": {
            "text/plain": [
              "Title    0\n",
              "IMDb     0\n",
              "Count    0\n",
              "dtype: int64"
            ]
          },
          "metadata": {
            "tags": []
          },
          "execution_count": 573
        }
      ]
    },
    {
      "cell_type": "code",
      "metadata": {
        "colab": {
          "base_uri": "https://localhost:8080/",
          "height": 430
        },
        "id": "nt4TsEyuVDEM",
        "outputId": "a8ee9d41-0754-445b-c866-cd316221f60a"
      },
      "source": [
        "# scatter plot\n",
        "\n",
        "plt.style.use('seaborn-whitegrid')\n",
        "ax = plt.scatter(df_popularity.index.values, df_popularity['IMDb'], s = 20, color = '#B5DDD1')\n",
        "\n",
        "plt.xlabel('Movies')\n",
        "plt.ylabel('IMDb Rating')\n",
        "\n",
        "plt.title('Popularity of Movies', y = 1.03)\n",
        "\n",
        "plt.axis([0, 17000, 0, 10])\n",
        "ax.axes.xaxis.set_ticks([])\n",
        "\n",
        "plt.show()"
      ],
      "execution_count": 532,
      "outputs": [
        {
          "output_type": "display_data",
          "data": {
            "image/png": "[encoded data removed]",
            "text/plain": [
              "<Figure size 640x440 with 1 Axes>"
            ]
          },
          "metadata": {
            "tags": []
          }
        }
      ]
    },
    {
      "cell_type": "code",
      "metadata": {
        "colab": {
          "base_uri": "https://localhost:8080/",
          "height": 449
        },
        "id": "85yEv42PE--M",
        "outputId": "b6b8ed47-eff6-43b1-d236-3b5fdac27818"
      },
      "source": [
        "# box plot\n",
        "\n",
        "colors = ['#FED5E1', '#F99A9C', '#B5DDD1', '#000000']\n",
        "flierprops = dict(markerfacecolor = 'k', markeredgecolor = 'k')\n",
        "\n",
        "sns.set_style('whitegrid',)\n",
        "ax = sns.boxplot(x = 'Count', y = 'IMDb', data = df_popularity, palette = colors, linewidth = 0.5, fliersize = 1, flierprops = flierprops)\n",
        "\n",
        "plt.setp(ax.artists, edgecolor = 'k')\n",
        "plt.setp(ax.lines, color='k')\n",
        "\n",
        "plt.xlabel('Number of Platforms')\n",
        "plt.ylabel('IMDb Rating')\n",
        "\n",
        "plt.title('Movie Popularity by Number of Platforms', y = 1.03)\n",
        "\n",
        "plt.show()"
      ],
      "execution_count": 533,
      "outputs": [
        {
          "output_type": "display_data",
          "data": {
            "image/png": "[encoded data removed]",
            "text/plain": [
              "<Figure size 640x440 with 1 Axes>"
            ]
          },
          "metadata": {
            "tags": []
          }
        }
      ]
    },
    {
      "cell_type": "code",
      "metadata": {
        "colab": {
          "base_uri": "https://localhost:8080/",
          "height": 440
        },
        "id": "Ka91gfvOBlOh",
        "outputId": "13dc300a-49ce-42b7-9a12-50fb42147ccf"
      },
      "source": [
        "# cat plot\n",
        "\n",
        "colors = ['#FED5E1', '#F99A9C', '#B5DDD1', '#000000']\n",
        "\n",
        "sns.set_style('whitegrid',)\n",
        "sns.catplot(x = 'Count', y = 'IMDb', data = df_popularity, palette = colors)\n",
        "\n",
        "plt.xlabel('Number of Platforms')\n",
        "plt.ylabel('IMDb Rating')\n",
        "\n",
        "plt.title('Movie Popularity by Number of Platforms', y = 1.03)\n",
        "\n",
        "plt.show()"
      ],
      "execution_count": 534,
      "outputs": [
        {
          "output_type": "display_data",
          "data": {
            "image/png": "[encoded data removed]",
            "text/plain": [
              "<Figure size 400x400 with 1 Axes>"
            ]
          },
          "metadata": {
            "tags": []
          }
        }
      ]
    },
    {
      "cell_type": "markdown",
      "metadata": {
        "id": "9SC75pRbOWay"
      },
      "source": [
        "ANSWER: The box plot above shows that the interquartile range of each of the number of platforms is surprisingly quite similar. Thus, we can conclude that the popularity of a movie is not affected by the number of platforms it streams on."
      ]
    }
  ]
}